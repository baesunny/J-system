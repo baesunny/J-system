{
 "cells": [
  {
   "cell_type": "code",
   "execution_count": 31,
   "id": "db9bd2cb-4b9f-4a67-b9b3-087088d758b2",
   "metadata": {},
   "outputs": [],
   "source": [
    "import snap7\n",
    "import psycopg2\n",
    "from time import sleep\n",
    "import snap7.util\n",
    "from datetime import datetime\n",
    "\n",
    "# PLC 연결 설정\n",
    "plc = snap7.client.Client()\n",
    "plc.connect(\"192.168.0.120\", 0, 1)\n",
    "\n",
    "# 데이터베이스 연결 설정\n",
    "conn = psycopg2.connect(\n",
    "    dbname=\"postgres\",\n",
    "    user=\"postgres\",\n",
    "    password=\"1234\",\n",
    "    host=\"localhost\",\n",
    "    port=\"5432\"\n",
    ")\n",
    "cursor = conn.cursor()\n",
    "\n",
    "# 초기 상한 및 하한값 설정\n",
    "upper_limit_frequency_cv, lower_limit_frequency_cv = 0, 0\n",
    "\n",
    "# current_cv 이전 값 저장용 초기값 설정\n",
    "prev_current_cv = None"
   ]
  },
  {
   "cell_type": "code",
   "execution_count": 34,
   "id": "2a6ff842-2ace-40a6-beeb-87ea5e9fefdd",
   "metadata": {},
   "outputs": [
    {
     "ename": "KeyboardInterrupt",
     "evalue": "",
     "output_type": "error",
     "traceback": [
      "\u001b[1;31m---------------------------------------------------------------------------\u001b[0m",
      "\u001b[1;31mKeyboardInterrupt\u001b[0m                         Traceback (most recent call last)",
      "Cell \u001b[1;32mIn[34], line 53\u001b[0m\n\u001b[0;32m     50\u001b[0m     prev_current_cv \u001b[38;5;241m=\u001b[39m current_cv\n\u001b[0;32m     52\u001b[0m     \u001b[38;5;66;03m# 주기 설정\u001b[39;00m\n\u001b[1;32m---> 53\u001b[0m     sleep(\u001b[38;5;241m0.5\u001b[39m)\n\u001b[0;32m     55\u001b[0m \u001b[38;5;66;03m# 데이터베이스 연결 종료\u001b[39;00m\n\u001b[0;32m     56\u001b[0m conn\u001b[38;5;241m.\u001b[39mclose()\n",
      "\u001b[1;31mKeyboardInterrupt\u001b[0m: "
     ]
    }
   ],
   "source": [
    "from datetime import datetime\n",
    "from time import sleep\n",
    "\n",
    "# 이전 값 초기화\n",
    "prev_current_cv = None\n",
    "\n",
    "while True:\n",
    "    # PLC 데이터 읽기\n",
    "    buffer_sensor_db = plc.db_read(7, 0, 16)\n",
    "    buffer_sensor_db_2 = plc.db_read(4, 0, 2)\n",
    "\n",
    "    # 값 변환\n",
    "    current_cv = snap7.util.get_int(buffer_sensor_db, 0) / 10\n",
    "    frequency_cv = snap7.util.get_int(buffer_sensor_db, 2) / 100\n",
    "    frequency_sv = snap7.util.get_int(buffer_sensor_db_2, 0) / 100\n",
    "\n",
    "    # 상한 및 하한 설정\n",
    "    if prev_current_cv is not None:\n",
    "        upper_limit_current = prev_current_cv + 0.1\n",
    "        lower_limit_current = prev_current_cv - 0.1\n",
    "    else:\n",
    "        upper_limit_current = current_cv + 0.1\n",
    "        lower_limit_current = current_cv - 0.1\n",
    "\n",
    "    upper_limit_frequency_cv = frequency_sv + 1\n",
    "    lower_limit_frequency_cv = frequency_sv - 1\n",
    "\n",
    "    # 현재 시간\n",
    "    current_time = datetime.now()\n",
    "\n",
    "    # 각 센서 데이터 삽입 준비\n",
    "    data_to_insert = [\n",
    "        (3, current_time, current_cv, upper_limit_current, lower_limit_current, current_cv < lower_limit_current or current_cv > upper_limit_current),\n",
    "        (4, current_time, frequency_cv, upper_limit_frequency_cv, lower_limit_frequency_cv, frequency_cv < lower_limit_frequency_cv or frequency_cv > upper_limit_frequency_cv),\n",
    "        (5, current_time, frequency_sv, None, None, None)  # frequency_sv의 상한선, 하한선, 이상탐지값은 결측치로 설정\n",
    "    ]\n",
    "\n",
    "    # 데이터베이스에 삽입\n",
    "    try:\n",
    "        cursor.executemany(\"\"\"\n",
    "            INSERT INTO vibration (sensor_id, \"time\", value, upper_limit, lower_limit, outlier_status)\n",
    "            VALUES (%s, %s, %s, %s, %s, %s)\n",
    "        \"\"\", data_to_insert)\n",
    "        conn.commit()\n",
    "    except Exception as e:\n",
    "        print(f\"Database insertion error: {e}\")\n",
    "        conn.rollback()\n",
    "\n",
    "    # 현재 측정값을 이전 값으로 저장\n",
    "    prev_current_cv = current_cv\n",
    "\n",
    "    # 주기 설정\n",
    "    sleep(0.5)\n",
    "\n",
    "# 데이터베이스 연결 종료\n",
    "conn.close()\n"
   ]
  },
  {
   "cell_type": "code",
   "execution_count": null,
   "id": "2117f55f-c173-437d-8717-48e0ba05a024",
   "metadata": {},
   "outputs": [],
   "source": []
  },
  {
   "cell_type": "code",
   "execution_count": null,
   "id": "f19246c2-b0e2-4b85-a723-ee2e839d8a07",
   "metadata": {},
   "outputs": [],
   "source": []
  }
 ],
 "metadata": {
  "kernelspec": {
   "display_name": "jsys",
   "language": "python",
   "name": "jsys"
  },
  "language_info": {
   "codemirror_mode": {
    "name": "ipython",
    "version": 3
   },
   "file_extension": ".py",
   "mimetype": "text/x-python",
   "name": "python",
   "nbconvert_exporter": "python",
   "pygments_lexer": "ipython3",
   "version": "3.12.4"
  }
 },
 "nbformat": 4,
 "nbformat_minor": 5
}

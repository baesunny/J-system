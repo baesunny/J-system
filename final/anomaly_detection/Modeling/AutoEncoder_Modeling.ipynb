{
 "cells": [
  {
   "cell_type": "markdown",
   "id": "1020edf7",
   "metadata": {},
   "source": [
    "https://huggingface.co/keras-io/timeseries-anomaly-detection"
   ]
  },
  {
   "cell_type": "code",
   "execution_count": 1,
   "id": "bb17c280",
   "metadata": {},
   "outputs": [
    {
     "name": "stderr",
     "output_type": "stream",
     "text": [
      "2024-12-03 15:09:28.769918: I tensorflow/core/util/port.cc:113] oneDNN custom operations are on. You may see slightly different numerical results due to floating-point round-off errors from different computation orders. To turn them off, set the environment variable `TF_ENABLE_ONEDNN_OPTS=0`.\n",
      "2024-12-03 15:09:28.797196: I tensorflow/core/platform/cpu_feature_guard.cc:182] This TensorFlow binary is optimized to use available CPU instructions in performance-critical operations.\n",
      "To enable the following instructions: SSE4.1 SSE4.2 AVX AVX2 AVX512F AVX512_VNNI FMA, in other operations, rebuild TensorFlow with the appropriate compiler flags.\n"
     ]
    },
    {
     "name": "stdout",
     "output_type": "stream",
     "text": [
      "2.15.0\n",
      "2.15.0\n"
     ]
    }
   ],
   "source": [
    "## 버전 확인 (hugging face 모델: keras<3.x)\n",
    "import tensorflow as tf\n",
    "import keras\n",
    "print(tf.__version__)\n",
    "print(keras.__version__)"
   ]
  },
  {
   "cell_type": "code",
   "execution_count": 2,
   "id": "c45f361e",
   "metadata": {},
   "outputs": [],
   "source": [
    "import pandas as pd\n",
    "import numpy as np\n",
    "from sklearn.model_selection import train_test_split\n",
    "from sklearn.preprocessing import MinMaxScaler\n",
    "from keras.models import load_model  # 모델 불러오기\n",
    "from sklearn.metrics import confusion_matrix, classification_report, accuracy_score"
   ]
  },
  {
   "cell_type": "code",
   "execution_count": 4,
   "id": "1bf41993",
   "metadata": {},
   "outputs": [
    {
     "data": {
      "text/html": [
       "<div>\n",
       "<style scoped>\n",
       "    .dataframe tbody tr th:only-of-type {\n",
       "        vertical-align: middle;\n",
       "    }\n",
       "\n",
       "    .dataframe tbody tr th {\n",
       "        vertical-align: top;\n",
       "    }\n",
       "\n",
       "    .dataframe thead th {\n",
       "        text-align: right;\n",
       "    }\n",
       "</style>\n",
       "<table border=\"1\" class=\"dataframe\">\n",
       "  <thead>\n",
       "    <tr style=\"text-align: right;\">\n",
       "      <th></th>\n",
       "      <th>test_id</th>\n",
       "      <th>date</th>\n",
       "      <th>time</th>\n",
       "      <th>temp</th>\n",
       "      <th>rh</th>\n",
       "      <th>label</th>\n",
       "    </tr>\n",
       "  </thead>\n",
       "  <tbody>\n",
       "    <tr>\n",
       "      <th>0</th>\n",
       "      <td>61</td>\n",
       "      <td>2024-09-11</td>\n",
       "      <td>4:27:10 오후</td>\n",
       "      <td>0.000000</td>\n",
       "      <td>0.000000</td>\n",
       "      <td>1</td>\n",
       "    </tr>\n",
       "    <tr>\n",
       "      <th>1</th>\n",
       "      <td>62</td>\n",
       "      <td>2024-09-11</td>\n",
       "      <td>4:27:16 오후</td>\n",
       "      <td>0.000000</td>\n",
       "      <td>0.000000</td>\n",
       "      <td>1</td>\n",
       "    </tr>\n",
       "    <tr>\n",
       "      <th>2</th>\n",
       "      <td>63</td>\n",
       "      <td>2024-09-11</td>\n",
       "      <td>4:28:16 오후</td>\n",
       "      <td>0.000000</td>\n",
       "      <td>0.000000</td>\n",
       "      <td>1</td>\n",
       "    </tr>\n",
       "    <tr>\n",
       "      <th>3</th>\n",
       "      <td>64</td>\n",
       "      <td>2024-09-11</td>\n",
       "      <td>4:30:56 오후</td>\n",
       "      <td>26.010921</td>\n",
       "      <td>67.549190</td>\n",
       "      <td>0</td>\n",
       "    </tr>\n",
       "    <tr>\n",
       "      <th>4</th>\n",
       "      <td>65</td>\n",
       "      <td>2024-09-11</td>\n",
       "      <td>4:30:57 오후</td>\n",
       "      <td>26.018158</td>\n",
       "      <td>67.339410</td>\n",
       "      <td>0</td>\n",
       "    </tr>\n",
       "    <tr>\n",
       "      <th>...</th>\n",
       "      <td>...</td>\n",
       "      <td>...</td>\n",
       "      <td>...</td>\n",
       "      <td>...</td>\n",
       "      <td>...</td>\n",
       "      <td>...</td>\n",
       "    </tr>\n",
       "    <tr>\n",
       "      <th>1682</th>\n",
       "      <td>1311</td>\n",
       "      <td>2024-09-12</td>\n",
       "      <td>9:49:19 오전</td>\n",
       "      <td>25.884330</td>\n",
       "      <td>65.530960</td>\n",
       "      <td>0</td>\n",
       "    </tr>\n",
       "    <tr>\n",
       "      <th>1683</th>\n",
       "      <td>1312</td>\n",
       "      <td>2024-09-12</td>\n",
       "      <td>9:49:20 오전</td>\n",
       "      <td>25.896990</td>\n",
       "      <td>65.491170</td>\n",
       "      <td>0</td>\n",
       "    </tr>\n",
       "    <tr>\n",
       "      <th>1684</th>\n",
       "      <td>1313</td>\n",
       "      <td>2024-09-12</td>\n",
       "      <td>9:49:21 오전</td>\n",
       "      <td>25.860823</td>\n",
       "      <td>65.505640</td>\n",
       "      <td>0</td>\n",
       "    </tr>\n",
       "    <tr>\n",
       "      <th>1685</th>\n",
       "      <td>1314</td>\n",
       "      <td>2024-09-12</td>\n",
       "      <td>9:49:22 오전</td>\n",
       "      <td>25.938585</td>\n",
       "      <td>65.469475</td>\n",
       "      <td>0</td>\n",
       "    </tr>\n",
       "    <tr>\n",
       "      <th>1686</th>\n",
       "      <td>1315</td>\n",
       "      <td>2024-09-12</td>\n",
       "      <td>9:49:23 오전</td>\n",
       "      <td>25.916883</td>\n",
       "      <td>65.520110</td>\n",
       "      <td>0</td>\n",
       "    </tr>\n",
       "  </tbody>\n",
       "</table>\n",
       "<p>1687 rows × 6 columns</p>\n",
       "</div>"
      ],
      "text/plain": [
       "      test_id        date        time       temp         rh  label\n",
       "0          61  2024-09-11  4:27:10 오후   0.000000   0.000000      1\n",
       "1          62  2024-09-11  4:27:16 오후   0.000000   0.000000      1\n",
       "2          63  2024-09-11  4:28:16 오후   0.000000   0.000000      1\n",
       "3          64  2024-09-11  4:30:56 오후  26.010921  67.549190      0\n",
       "4          65  2024-09-11  4:30:57 오후  26.018158  67.339410      0\n",
       "...       ...         ...         ...        ...        ...    ...\n",
       "1682     1311  2024-09-12  9:49:19 오전  25.884330  65.530960      0\n",
       "1683     1312  2024-09-12  9:49:20 오전  25.896990  65.491170      0\n",
       "1684     1313  2024-09-12  9:49:21 오전  25.860823  65.505640      0\n",
       "1685     1314  2024-09-12  9:49:22 오전  25.938585  65.469475      0\n",
       "1686     1315  2024-09-12  9:49:23 오전  25.916883  65.520110      0\n",
       "\n",
       "[1687 rows x 6 columns]"
      ]
     },
     "execution_count": 4,
     "metadata": {},
     "output_type": "execute_result"
    }
   ],
   "source": [
    "data = pd.read_csv('./preprocessed_data0912(symbolic).csv')\n",
    "data"
   ]
  },
  {
   "cell_type": "code",
   "execution_count": 5,
   "id": "c22d58f5",
   "metadata": {},
   "outputs": [],
   "source": [
    "# '오후', '오전'을 AM/PM으로 변환하는 함수\n",
    "def convert_korean_time_to_ampm(time_str):\n",
    "    if '오전' in time_str:\n",
    "        return time_str.replace('오전', 'AM')\n",
    "    elif '오후' in time_str:\n",
    "        return time_str.replace('오후', 'PM')\n",
    "    else:\n",
    "        return time_str\n",
    "\n",
    "# 'time' 컬럼에 있는 '오전', '오후'를 AM/PM으로 변환\n",
    "data['time'] = data['time'].apply(convert_korean_time_to_ampm)\n",
    "\n",
    "# 날짜 및 시간 합치기\n",
    "data['datetime'] = pd.to_datetime(data['date'] + ' ' + data['time'], format='%Y-%m-%d %I:%M:%S %p')\n",
    "\n",
    "# 불필요한 칼럼 제거\n",
    "data = data.drop(columns=['test_id', 'date', 'time'])\n",
    "\n",
    "# 칼럼순서 변경\n",
    "data = data[['datetime', 'temp', 'rh', 'label']]\n",
    "\n",
    "data['datetime'] = pd.to_datetime(data['datetime'])\n",
    "data = data.set_index('datetime')"
   ]
  },
  {
   "cell_type": "code",
   "execution_count": 6,
   "id": "ab59d375",
   "metadata": {},
   "outputs": [
    {
     "name": "stdout",
     "output_type": "stream",
     "text": [
      "X shape before reshape: (1399, 288, 2)\n"
     ]
    }
   ],
   "source": [
    "# 데이터 정규화\n",
    "scaler = MinMaxScaler()\n",
    "data[['temp', 'rh']] = scaler.fit_transform(data[['temp', 'rh']])\n",
    "\n",
    "# 시계열 데이터로 변환\n",
    "def create_sequences(df, sequence_length):\n",
    "    xs, ys = [], []\n",
    "    for i in range(len(df) - sequence_length):\n",
    "        x = df.iloc[i:i+sequence_length][['temp', 'rh']].values\n",
    "        y = df.iloc[i+sequence_length]['label']\n",
    "        xs.append(x)\n",
    "        ys.append(y)\n",
    "    return np.array(xs), np.array(ys)\n",
    "\n",
    "sequence_length = 288  # 모델이 기대하는 시퀀스 길이\n",
    "X, y = create_sequences(data, sequence_length)\n",
    "\n",
    "# 현재 X shape 확인\n",
    "print(\"X shape before reshape:\", X.shape)"
   ]
  },
  {
   "cell_type": "code",
   "execution_count": 7,
   "id": "0e01a760",
   "metadata": {},
   "outputs": [
    {
     "name": "stdout",
     "output_type": "stream",
     "text": [
      "X shape after reshape: (1399, 288, 1)\n"
     ]
    }
   ],
   "source": [
    "# 데이터 차원 조정 (마지막 차원을 1로 변경)\n",
    "X = X[:, :, 0:1]\n",
    "\n",
    "# 현재 X shape 확인\n",
    "print(\"X shape after reshape:\", X.shape)\n",
    "\n",
    "# 훈련 세트와 테스트 세트로 나누기\n",
    "X_train, X_test, y_train, y_test = train_test_split(X, y, test_size=0.2, shuffle=False)"
   ]
  },
  {
   "cell_type": "code",
   "execution_count": 8,
   "id": "61b10850",
   "metadata": {},
   "outputs": [
    {
     "name": "stderr",
     "output_type": "stream",
     "text": [
      "/home/osanie/.conda/envs/jsys/lib/python3.9/site-packages/tqdm/auto.py:21: TqdmWarning: IProgress not found. Please update jupyter and ipywidgets. See https://ipywidgets.readthedocs.io/en/stable/user_install.html\n",
      "  from .autonotebook import tqdm as notebook_tqdm\n",
      "Fetching 36 files: 100%|█████████████████████████████████| 36/36 [00:00<00:00, 130168.06it/s]\n"
     ]
    },
    {
     "name": "stdout",
     "output_type": "stream",
     "text": [
      "WARNING:tensorflow:No training configuration found in save file, so the model was *not* compiled. Compile it manually.\n"
     ]
    },
    {
     "name": "stderr",
     "output_type": "stream",
     "text": [
      "WARNING:tensorflow:No training configuration found in save file, so the model was *not* compiled. Compile it manually.\n"
     ]
    },
    {
     "name": "stdout",
     "output_type": "stream",
     "text": [
      "Model: \"sequential\"\n",
      "_________________________________________________________________\n",
      " Layer (type)                Output Shape              Param #   \n",
      "=================================================================\n",
      " conv1d (Conv1D)             (None, 144, 32)           256       \n",
      "                                                                 \n",
      " dropout (Dropout)           (None, 144, 32)           0         \n",
      "                                                                 \n",
      " conv1d_1 (Conv1D)           (None, 72, 16)            3600      \n",
      "                                                                 \n",
      " conv1d_transpose (Conv1DTr  (None, 144, 16)           1808      \n",
      " anspose)                                                        \n",
      "                                                                 \n",
      " dropout_1 (Dropout)         (None, 144, 16)           0         \n",
      "                                                                 \n",
      " conv1d_transpose_1 (Conv1D  (None, 288, 32)           3616      \n",
      " Transpose)                                                      \n",
      "                                                                 \n",
      " conv1d_transpose_2 (Conv1D  (None, 288, 1)            225       \n",
      " Transpose)                                                      \n",
      "                                                                 \n",
      "=================================================================\n",
      "Total params: 9505 (37.13 KB)\n",
      "Trainable params: 9505 (37.13 KB)\n",
      "Non-trainable params: 0 (0.00 Byte)\n",
      "_________________________________________________________________\n"
     ]
    }
   ],
   "source": [
    "# 모델 로드\n",
    "\n",
    "# Note: 'keras<3.x' or 'tf_keras' must be installed (legacy)\n",
    "# See https://github.com/keras-team/tf-keras for more details.\n",
    "from huggingface_hub import from_pretrained_keras\n",
    "model = from_pretrained_keras(\"keras-io/timeseries-anomaly-detection\")\n",
    "model.summary()"
   ]
  },
  {
   "cell_type": "code",
   "execution_count": 14,
   "id": "8d5edc2b",
   "metadata": {},
   "outputs": [
    {
     "name": "stdout",
     "output_type": "stream",
     "text": [
      "Epoch 1/10\n",
      "32/32 [==============================] - 2s 17ms/step - loss: 0.0000e+00 - accuracy: 1.0000 - val_loss: 2.3413 - val_accuracy: 0.8482\n",
      "Epoch 2/10\n",
      "32/32 [==============================] - 0s 12ms/step - loss: 0.0000e+00 - accuracy: 1.0000 - val_loss: 2.3413 - val_accuracy: 0.8482\n",
      "Epoch 3/10\n",
      "32/32 [==============================] - 0s 12ms/step - loss: 0.0000e+00 - accuracy: 1.0000 - val_loss: 2.3413 - val_accuracy: 0.8482\n",
      "Epoch 4/10\n",
      "32/32 [==============================] - 0s 12ms/step - loss: 0.0000e+00 - accuracy: 1.0000 - val_loss: 2.3413 - val_accuracy: 0.8482\n",
      "Epoch 5/10\n",
      "32/32 [==============================] - 0s 12ms/step - loss: 0.0000e+00 - accuracy: 1.0000 - val_loss: 2.3413 - val_accuracy: 0.8482\n",
      "Epoch 6/10\n",
      "32/32 [==============================] - 0s 12ms/step - loss: 0.0000e+00 - accuracy: 1.0000 - val_loss: 2.3413 - val_accuracy: 0.8482\n",
      "Epoch 7/10\n",
      "32/32 [==============================] - 0s 12ms/step - loss: 0.0000e+00 - accuracy: 1.0000 - val_loss: 2.3413 - val_accuracy: 0.8482\n",
      "Epoch 8/10\n",
      "32/32 [==============================] - 0s 12ms/step - loss: 0.0000e+00 - accuracy: 1.0000 - val_loss: 2.3413 - val_accuracy: 0.8482\n",
      "Epoch 9/10\n",
      "32/32 [==============================] - 0s 11ms/step - loss: 0.0000e+00 - accuracy: 1.0000 - val_loss: 2.3413 - val_accuracy: 0.8482\n",
      "Epoch 10/10\n",
      "32/32 [==============================] - 0s 11ms/step - loss: 0.0000e+00 - accuracy: 1.0000 - val_loss: 2.3413 - val_accuracy: 0.8482\n",
      "9/9 [==============================] - 0s 4ms/step\n",
      "9/9 [==============================] - 0s 4ms/step - loss: 0.4407 - accuracy: 0.9714\n",
      " \n",
      " \n",
      "==========================\n",
      "Test Loss: 0.4407126307487488\n",
      "Test Accuracy: 0.9714285731315613\n"
     ]
    }
   ],
   "source": [
    "# 모델 컴파일\n",
    "model.compile(optimizer='adam', loss='binary_crossentropy', metrics=['accuracy'])\n",
    "\n",
    "# 모델 학습\n",
    "history = model.fit(X_train, y_train, epochs=10, batch_size=32, validation_split=0.1)\n",
    "\n",
    "# 예측\n",
    "y_pred = model.predict(X_test)\n",
    "\n",
    "# 모델 평가\n",
    "loss, accuracy = model.evaluate(X_test, y_test)\n",
    "print(\" \")\n",
    "print(\" \")\n",
    "print(\"==========================\")\n",
    "print(f\"Test Loss: {loss}\")\n",
    "print(f\"Test Accuracy: {accuracy}\")"
   ]
  },
  {
   "cell_type": "code",
   "execution_count": null,
   "id": "a3a52549",
   "metadata": {},
   "outputs": [],
   "source": []
  }
 ],
 "metadata": {
  "kernelspec": {
   "display_name": "jsys",
   "language": "python",
   "name": "jsys"
  },
  "language_info": {
   "codemirror_mode": {
    "name": "ipython",
    "version": 3
   },
   "file_extension": ".py",
   "mimetype": "text/x-python",
   "name": "python",
   "nbconvert_exporter": "python",
   "pygments_lexer": "ipython3",
   "version": "3.9.19"
  }
 },
 "nbformat": 4,
 "nbformat_minor": 5
}
